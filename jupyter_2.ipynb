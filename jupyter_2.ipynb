{
 "cells": [
  {
   "cell_type": "code",
   "execution_count": 1,
   "metadata": {},
   "outputs": [
    {
     "name": "stderr",
     "output_type": "stream",
     "text": [
      "2023-04-19 01:23:09.991086: I tensorflow/tsl/cuda/cudart_stub.cc:28] Could not find cuda drivers on your machine, GPU will not be used.\n",
      "2023-04-19 01:23:10.049479: I tensorflow/tsl/cuda/cudart_stub.cc:28] Could not find cuda drivers on your machine, GPU will not be used.\n",
      "2023-04-19 01:23:10.050409: I tensorflow/core/platform/cpu_feature_guard.cc:182] This TensorFlow binary is optimized to use available CPU instructions in performance-critical operations.\n",
      "To enable the following instructions: AVX2 FMA, in other operations, rebuild TensorFlow with the appropriate compiler flags.\n",
      "2023-04-19 01:23:10.930111: W tensorflow/compiler/tf2tensorrt/utils/py_utils.cc:38] TF-TRT Warning: Could not find TensorRT\n"
     ]
    }
   ],
   "source": [
    "import yfinance as yf\n",
    "import pandas as pd\n",
    "import numpy as np\n",
    "import os\n",
    "import pickle\n",
    "import matplotlib.pyplot as plt\n",
    "\n",
    "from sklearn.preprocessing import StandardScaler\n",
    "from sklearn.model_selection import train_test_split\n",
    "from keras.callbacks import ModelCheckpoint\n",
    "\n",
    "from tensorflow.keras.models import Sequential\n",
    "from tensorflow.keras.layers import Conv1D, MaxPooling1D, Flatten, Dense, Dropout, LSTM\n",
    "\n",
    "os.environ[\"TF_CPP_MIN_LOG_LEVEL\"] = \"2\""
   ]
  },
  {
   "cell_type": "code",
   "execution_count": 2,
   "metadata": {},
   "outputs": [
    {
     "name": "stdout",
     "output_type": "stream",
     "text": [
      "[*********************100%***********************]  1 of 1 completed\n"
     ]
    },
    {
     "data": {
      "text/html": [
       "<div>\n",
       "<style scoped>\n",
       "    .dataframe tbody tr th:only-of-type {\n",
       "        vertical-align: middle;\n",
       "    }\n",
       "\n",
       "    .dataframe tbody tr th {\n",
       "        vertical-align: top;\n",
       "    }\n",
       "\n",
       "    .dataframe thead th {\n",
       "        text-align: right;\n",
       "    }\n",
       "</style>\n",
       "<table border=\"1\" class=\"dataframe\">\n",
       "  <thead>\n",
       "    <tr style=\"text-align: right;\">\n",
       "      <th></th>\n",
       "      <th>Open</th>\n",
       "      <th>High</th>\n",
       "      <th>Low</th>\n",
       "      <th>Close</th>\n",
       "      <th>Adj Close</th>\n",
       "      <th>Volume</th>\n",
       "    </tr>\n",
       "    <tr>\n",
       "      <th>Date</th>\n",
       "      <th></th>\n",
       "      <th></th>\n",
       "      <th></th>\n",
       "      <th></th>\n",
       "      <th></th>\n",
       "      <th></th>\n",
       "    </tr>\n",
       "  </thead>\n",
       "  <tbody>\n",
       "    <tr>\n",
       "      <th>2018-01-02</th>\n",
       "      <td>14.65</td>\n",
       "      <td>15.24</td>\n",
       "      <td>14.61</td>\n",
       "      <td>15.20</td>\n",
       "      <td>13.524044</td>\n",
       "      <td>15223200</td>\n",
       "    </tr>\n",
       "    <tr>\n",
       "      <th>2018-01-03</th>\n",
       "      <td>15.24</td>\n",
       "      <td>15.27</td>\n",
       "      <td>14.74</td>\n",
       "      <td>15.00</td>\n",
       "      <td>13.346094</td>\n",
       "      <td>15155900</td>\n",
       "    </tr>\n",
       "    <tr>\n",
       "      <th>2018-01-04</th>\n",
       "      <td>15.03</td>\n",
       "      <td>15.05</td>\n",
       "      <td>14.79</td>\n",
       "      <td>15.03</td>\n",
       "      <td>13.372787</td>\n",
       "      <td>8936100</td>\n",
       "    </tr>\n",
       "    <tr>\n",
       "      <th>2018-01-05</th>\n",
       "      <td>14.99</td>\n",
       "      <td>15.00</td>\n",
       "      <td>14.87</td>\n",
       "      <td>14.95</td>\n",
       "      <td>13.301606</td>\n",
       "      <td>6515600</td>\n",
       "    </tr>\n",
       "    <tr>\n",
       "      <th>2018-01-08</th>\n",
       "      <td>14.88</td>\n",
       "      <td>14.95</td>\n",
       "      <td>14.64</td>\n",
       "      <td>14.74</td>\n",
       "      <td>13.114761</td>\n",
       "      <td>8362600</td>\n",
       "    </tr>\n",
       "  </tbody>\n",
       "</table>\n",
       "</div>"
      ],
      "text/plain": [
       "             Open   High    Low  Close  Adj Close    Volume\n",
       "Date                                                       \n",
       "2018-01-02  14.65  15.24  14.61  15.20  13.524044  15223200\n",
       "2018-01-03  15.24  15.27  14.74  15.00  13.346094  15155900\n",
       "2018-01-04  15.03  15.05  14.79  15.03  13.372787   8936100\n",
       "2018-01-05  14.99  15.00  14.87  14.95  13.301606   6515600\n",
       "2018-01-08  14.88  14.95  14.64  14.74  13.114761   8362600"
      ]
     },
     "execution_count": 2,
     "metadata": {},
     "output_type": "execute_result"
    }
   ],
   "source": [
    "data = yf.download(\"Gold\", start=\"2018-01-01\", end=\"2022-01-01\")\n",
    "data.head()"
   ]
  },
  {
   "cell_type": "code",
   "execution_count": 3,
   "metadata": {},
   "outputs": [
    {
     "data": {
      "text/html": [
       "<div>\n",
       "<style scoped>\n",
       "    .dataframe tbody tr th:only-of-type {\n",
       "        vertical-align: middle;\n",
       "    }\n",
       "\n",
       "    .dataframe tbody tr th {\n",
       "        vertical-align: top;\n",
       "    }\n",
       "\n",
       "    .dataframe thead th {\n",
       "        text-align: right;\n",
       "    }\n",
       "</style>\n",
       "<table border=\"1\" class=\"dataframe\">\n",
       "  <thead>\n",
       "    <tr style=\"text-align: right;\">\n",
       "      <th></th>\n",
       "      <th>Open</th>\n",
       "      <th>High</th>\n",
       "      <th>Low</th>\n",
       "      <th>Close</th>\n",
       "      <th>Volume</th>\n",
       "    </tr>\n",
       "    <tr>\n",
       "      <th>Date</th>\n",
       "      <th></th>\n",
       "      <th></th>\n",
       "      <th></th>\n",
       "      <th></th>\n",
       "      <th></th>\n",
       "    </tr>\n",
       "  </thead>\n",
       "  <tbody>\n",
       "    <tr>\n",
       "      <th>2018-01-02</th>\n",
       "      <td>14.650000</td>\n",
       "      <td>15.240000</td>\n",
       "      <td>14.610000</td>\n",
       "      <td>15.200000</td>\n",
       "      <td>15223200</td>\n",
       "    </tr>\n",
       "    <tr>\n",
       "      <th>2018-01-03</th>\n",
       "      <td>15.240000</td>\n",
       "      <td>15.270000</td>\n",
       "      <td>14.740000</td>\n",
       "      <td>15.000000</td>\n",
       "      <td>15155900</td>\n",
       "    </tr>\n",
       "    <tr>\n",
       "      <th>2018-01-04</th>\n",
       "      <td>15.030000</td>\n",
       "      <td>15.050000</td>\n",
       "      <td>14.790000</td>\n",
       "      <td>15.030000</td>\n",
       "      <td>8936100</td>\n",
       "    </tr>\n",
       "    <tr>\n",
       "      <th>2018-01-05</th>\n",
       "      <td>14.990000</td>\n",
       "      <td>15.000000</td>\n",
       "      <td>14.870000</td>\n",
       "      <td>14.950000</td>\n",
       "      <td>6515600</td>\n",
       "    </tr>\n",
       "    <tr>\n",
       "      <th>2018-01-08</th>\n",
       "      <td>14.880000</td>\n",
       "      <td>14.950000</td>\n",
       "      <td>14.640000</td>\n",
       "      <td>14.740000</td>\n",
       "      <td>8362600</td>\n",
       "    </tr>\n",
       "    <tr>\n",
       "      <th>...</th>\n",
       "      <td>...</td>\n",
       "      <td>...</td>\n",
       "      <td>...</td>\n",
       "      <td>...</td>\n",
       "      <td>...</td>\n",
       "    </tr>\n",
       "    <tr>\n",
       "      <th>2021-12-27</th>\n",
       "      <td>18.500000</td>\n",
       "      <td>18.580000</td>\n",
       "      <td>18.270000</td>\n",
       "      <td>18.410000</td>\n",
       "      <td>11740600</td>\n",
       "    </tr>\n",
       "    <tr>\n",
       "      <th>2021-12-28</th>\n",
       "      <td>18.450001</td>\n",
       "      <td>18.670000</td>\n",
       "      <td>18.309999</td>\n",
       "      <td>18.370001</td>\n",
       "      <td>10310100</td>\n",
       "    </tr>\n",
       "    <tr>\n",
       "      <th>2021-12-29</th>\n",
       "      <td>18.240000</td>\n",
       "      <td>18.660000</td>\n",
       "      <td>18.219999</td>\n",
       "      <td>18.400000</td>\n",
       "      <td>17290100</td>\n",
       "    </tr>\n",
       "    <tr>\n",
       "      <th>2021-12-30</th>\n",
       "      <td>18.400000</td>\n",
       "      <td>18.889999</td>\n",
       "      <td>18.389999</td>\n",
       "      <td>18.820000</td>\n",
       "      <td>13570900</td>\n",
       "    </tr>\n",
       "    <tr>\n",
       "      <th>2021-12-31</th>\n",
       "      <td>18.980000</td>\n",
       "      <td>19.080000</td>\n",
       "      <td>18.780001</td>\n",
       "      <td>19.000000</td>\n",
       "      <td>14284100</td>\n",
       "    </tr>\n",
       "  </tbody>\n",
       "</table>\n",
       "<p>1008 rows × 5 columns</p>\n",
       "</div>"
      ],
      "text/plain": [
       "                 Open       High        Low      Close    Volume\n",
       "Date                                                            \n",
       "2018-01-02  14.650000  15.240000  14.610000  15.200000  15223200\n",
       "2018-01-03  15.240000  15.270000  14.740000  15.000000  15155900\n",
       "2018-01-04  15.030000  15.050000  14.790000  15.030000   8936100\n",
       "2018-01-05  14.990000  15.000000  14.870000  14.950000   6515600\n",
       "2018-01-08  14.880000  14.950000  14.640000  14.740000   8362600\n",
       "...               ...        ...        ...        ...       ...\n",
       "2021-12-27  18.500000  18.580000  18.270000  18.410000  11740600\n",
       "2021-12-28  18.450001  18.670000  18.309999  18.370001  10310100\n",
       "2021-12-29  18.240000  18.660000  18.219999  18.400000  17290100\n",
       "2021-12-30  18.400000  18.889999  18.389999  18.820000  13570900\n",
       "2021-12-31  18.980000  19.080000  18.780001  19.000000  14284100\n",
       "\n",
       "[1008 rows x 5 columns]"
      ]
     },
     "execution_count": 3,
     "metadata": {},
     "output_type": "execute_result"
    }
   ],
   "source": [
    "data.drop(columns=[\"Adj Close\"])"
   ]
  },
  {
   "cell_type": "code",
   "execution_count": 4,
   "metadata": {},
   "outputs": [],
   "source": [
    "target = data[\"High\"]\n",
    "target = target.to_numpy()\n",
    "data.drop(columns=\"High\", inplace=True)"
   ]
  },
  {
   "cell_type": "code",
   "execution_count": 5,
   "metadata": {},
   "outputs": [],
   "source": [
    "scaler_data = StandardScaler()\n",
    "scaler_target = StandardScaler()\n",
    "\n",
    "data = scaler_data.fit_transform(data)\n",
    "data = pd.DataFrame(data, columns=[\"date\", \"open\", \"low\", \"close\", \"volume\"])\n",
    "\n",
    "target = scaler_target.fit_transform(target.reshape(-1, 1))\n",
    "target = pd.DataFrame(target, columns=[\"max\"])\n",
    "\n",
    "data.drop(columns=[\"date\"], inplace=True)"
   ]
  },
  {
   "cell_type": "code",
   "execution_count": 6,
   "metadata": {},
   "outputs": [],
   "source": [
    "with open('scaler_data.pkl', 'wb') as f:\n",
    "    pickle.dump(scaler_data, f)\n",
    "\n",
    "with open('scaler_target.pkl', 'wb') as f:\n",
    "    pickle.dump(scaler_target, f)"
   ]
  },
  {
   "cell_type": "code",
   "execution_count": 7,
   "metadata": {},
   "outputs": [
    {
     "data": {
      "text/html": [
       "<div>\n",
       "<style scoped>\n",
       "    .dataframe tbody tr th:only-of-type {\n",
       "        vertical-align: middle;\n",
       "    }\n",
       "\n",
       "    .dataframe tbody tr th {\n",
       "        vertical-align: top;\n",
       "    }\n",
       "\n",
       "    .dataframe thead th {\n",
       "        text-align: right;\n",
       "    }\n",
       "</style>\n",
       "<table border=\"1\" class=\"dataframe\">\n",
       "  <thead>\n",
       "    <tr style=\"text-align: right;\">\n",
       "      <th></th>\n",
       "      <th>max</th>\n",
       "    </tr>\n",
       "  </thead>\n",
       "  <tbody>\n",
       "    <tr>\n",
       "      <th>0</th>\n",
       "      <td>-0.618247</td>\n",
       "    </tr>\n",
       "    <tr>\n",
       "      <th>1</th>\n",
       "      <td>-0.612653</td>\n",
       "    </tr>\n",
       "    <tr>\n",
       "      <th>2</th>\n",
       "      <td>-0.653680</td>\n",
       "    </tr>\n",
       "    <tr>\n",
       "      <th>3</th>\n",
       "      <td>-0.663005</td>\n",
       "    </tr>\n",
       "    <tr>\n",
       "      <th>4</th>\n",
       "      <td>-0.672329</td>\n",
       "    </tr>\n",
       "  </tbody>\n",
       "</table>\n",
       "</div>"
      ],
      "text/plain": [
       "        max\n",
       "0 -0.618247\n",
       "1 -0.612653\n",
       "2 -0.653680\n",
       "3 -0.663005\n",
       "4 -0.672329"
      ]
     },
     "execution_count": 7,
     "metadata": {},
     "output_type": "execute_result"
    }
   ],
   "source": [
    "target.head()"
   ]
  },
  {
   "cell_type": "code",
   "execution_count": 8,
   "metadata": {},
   "outputs": [],
   "source": [
    "def prepare_data(data, target, lookback):\n",
    "    x = []\n",
    "    y = []\n",
    "    for i in range(len(data) - lookback):\n",
    "        x.append(data[i:i+lookback])\n",
    "        y.append(target[i+lookback])\n",
    "    return np.array(x), np.array(y)\n",
    "\n",
    "lookback = 7\n",
    "x, y = prepare_data(data.values, target.values, lookback)"
   ]
  },
  {
   "cell_type": "code",
   "execution_count": 9,
   "metadata": {},
   "outputs": [],
   "source": [
    "x_train, x_test, y_train, y_test = train_test_split(x, y, test_size=0.2, random_state=42)"
   ]
  },
  {
   "cell_type": "code",
   "execution_count": 10,
   "metadata": {},
   "outputs": [
    {
     "name": "stderr",
     "output_type": "stream",
     "text": [
      "2023-04-19 01:23:12.488102: E tensorflow/compiler/xla/stream_executor/cuda/cuda_driver.cc:266] failed call to cuInit: CUDA_ERROR_NO_DEVICE: no CUDA-capable device is detected\n",
      "2023-04-19 01:23:12.753959: I tensorflow/core/common_runtime/executor.cc:1197] [/device:CPU:0] (DEBUG INFO) Executor start aborting (this does not indicate an error and you can ignore this message): INVALID_ARGUMENT: You must feed a value for placeholder tensor 'gradients/split_2_grad/concat/split_2/split_dim' with dtype int32\n",
      "\t [[{{node gradients/split_2_grad/concat/split_2/split_dim}}]]\n",
      "2023-04-19 01:23:12.756530: I tensorflow/core/common_runtime/executor.cc:1197] [/device:CPU:0] (DEBUG INFO) Executor start aborting (this does not indicate an error and you can ignore this message): INVALID_ARGUMENT: You must feed a value for placeholder tensor 'gradients/split_grad/concat/split/split_dim' with dtype int32\n",
      "\t [[{{node gradients/split_grad/concat/split/split_dim}}]]\n",
      "2023-04-19 01:23:12.758353: I tensorflow/core/common_runtime/executor.cc:1197] [/device:CPU:0] (DEBUG INFO) Executor start aborting (this does not indicate an error and you can ignore this message): INVALID_ARGUMENT: You must feed a value for placeholder tensor 'gradients/split_1_grad/concat/split_1/split_dim' with dtype int32\n",
      "\t [[{{node gradients/split_1_grad/concat/split_1/split_dim}}]]\n"
     ]
    }
   ],
   "source": [
    "model = Sequential([\n",
    "    LSTM(64, input_shape=(lookback, x_train.shape[2])),\n",
    "    Dense(64, activation=\"relu\"),\n",
    "    Dense(1)\n",
    "])"
   ]
  },
  {
   "cell_type": "code",
   "execution_count": 11,
   "metadata": {},
   "outputs": [],
   "source": [
    "filepath=\"model.h5\"\n",
    "checkpoint = ModelCheckpoint(filepath, monitor='val_loss', verbose=1, save_best_only=True, mode='min')"
   ]
  },
  {
   "cell_type": "code",
   "execution_count": 12,
   "metadata": {},
   "outputs": [],
   "source": [
    "model.compile(optimizer='adam', loss='mse', metrics=[\"mse\"])"
   ]
  },
  {
   "cell_type": "code",
   "execution_count": 13,
   "metadata": {},
   "outputs": [
    {
     "name": "stdout",
     "output_type": "stream",
     "text": [
      "Epoch 1/64\n"
     ]
    },
    {
     "name": "stderr",
     "output_type": "stream",
     "text": [
      "2023-04-19 01:23:13.166692: I tensorflow/core/common_runtime/executor.cc:1197] [/device:CPU:0] (DEBUG INFO) Executor start aborting (this does not indicate an error and you can ignore this message): INVALID_ARGUMENT: You must feed a value for placeholder tensor 'gradients/split_2_grad/concat/split_2/split_dim' with dtype int32\n",
      "\t [[{{node gradients/split_2_grad/concat/split_2/split_dim}}]]\n",
      "2023-04-19 01:23:13.169147: I tensorflow/core/common_runtime/executor.cc:1197] [/device:CPU:0] (DEBUG INFO) Executor start aborting (this does not indicate an error and you can ignore this message): INVALID_ARGUMENT: You must feed a value for placeholder tensor 'gradients/split_grad/concat/split/split_dim' with dtype int32\n",
      "\t [[{{node gradients/split_grad/concat/split/split_dim}}]]\n",
      "2023-04-19 01:23:13.170776: I tensorflow/core/common_runtime/executor.cc:1197] [/device:CPU:0] (DEBUG INFO) Executor start aborting (this does not indicate an error and you can ignore this message): INVALID_ARGUMENT: You must feed a value for placeholder tensor 'gradients/split_1_grad/concat/split_1/split_dim' with dtype int32\n",
      "\t [[{{node gradients/split_1_grad/concat/split_1/split_dim}}]]\n",
      "2023-04-19 01:23:13.765966: I tensorflow/core/common_runtime/executor.cc:1197] [/device:CPU:0] (DEBUG INFO) Executor start aborting (this does not indicate an error and you can ignore this message): INVALID_ARGUMENT: You must feed a value for placeholder tensor 'gradients/split_2_grad/concat/split_2/split_dim' with dtype int32\n",
      "\t [[{{node gradients/split_2_grad/concat/split_2/split_dim}}]]\n",
      "2023-04-19 01:23:13.768365: I tensorflow/core/common_runtime/executor.cc:1197] [/device:CPU:0] (DEBUG INFO) Executor start aborting (this does not indicate an error and you can ignore this message): INVALID_ARGUMENT: You must feed a value for placeholder tensor 'gradients/split_grad/concat/split/split_dim' with dtype int32\n",
      "\t [[{{node gradients/split_grad/concat/split/split_dim}}]]\n",
      "2023-04-19 01:23:13.770062: I tensorflow/core/common_runtime/executor.cc:1197] [/device:CPU:0] (DEBUG INFO) Executor start aborting (this does not indicate an error and you can ignore this message): INVALID_ARGUMENT: You must feed a value for placeholder tensor 'gradients/split_1_grad/concat/split_1/split_dim' with dtype int32\n",
      "\t [[{{node gradients/split_1_grad/concat/split_1/split_dim}}]]\n"
     ]
    },
    {
     "name": "stdout",
     "output_type": "stream",
     "text": [
      "48/50 [===========================>..] - ETA: 0s - loss: 0.1317 - mse: 0.1317"
     ]
    },
    {
     "name": "stderr",
     "output_type": "stream",
     "text": [
      "2023-04-19 01:23:15.066962: I tensorflow/core/common_runtime/executor.cc:1197] [/device:CPU:0] (DEBUG INFO) Executor start aborting (this does not indicate an error and you can ignore this message): INVALID_ARGUMENT: You must feed a value for placeholder tensor 'gradients/split_2_grad/concat/split_2/split_dim' with dtype int32\n",
      "\t [[{{node gradients/split_2_grad/concat/split_2/split_dim}}]]\n",
      "2023-04-19 01:23:15.068859: I tensorflow/core/common_runtime/executor.cc:1197] [/device:CPU:0] (DEBUG INFO) Executor start aborting (this does not indicate an error and you can ignore this message): INVALID_ARGUMENT: You must feed a value for placeholder tensor 'gradients/split_grad/concat/split/split_dim' with dtype int32\n",
      "\t [[{{node gradients/split_grad/concat/split/split_dim}}]]\n",
      "2023-04-19 01:23:15.070256: I tensorflow/core/common_runtime/executor.cc:1197] [/device:CPU:0] (DEBUG INFO) Executor start aborting (this does not indicate an error and you can ignore this message): INVALID_ARGUMENT: You must feed a value for placeholder tensor 'gradients/split_1_grad/concat/split_1/split_dim' with dtype int32\n",
      "\t [[{{node gradients/split_1_grad/concat/split_1/split_dim}}]]\n"
     ]
    },
    {
     "name": "stdout",
     "output_type": "stream",
     "text": [
      "\n",
      "Epoch 1: val_loss improved from inf to 0.02361, saving model to model.h5\n",
      "50/50 [==============================] - 2s 15ms/step - loss: 0.1274 - mse: 0.1274 - val_loss: 0.0236 - val_mse: 0.0236\n",
      "Epoch 2/64\n",
      "48/50 [===========================>..] - ETA: 0s - loss: 0.0182 - mse: 0.0182\n",
      "Epoch 2: val_loss improved from 0.02361 to 0.01786, saving model to model.h5\n",
      "50/50 [==============================] - 0s 6ms/step - loss: 0.0179 - mse: 0.0179 - val_loss: 0.0179 - val_mse: 0.0179\n",
      "Epoch 3/64\n",
      "48/50 [===========================>..] - ETA: 0s - loss: 0.0144 - mse: 0.0144\n",
      "Epoch 3: val_loss improved from 0.01786 to 0.01531, saving model to model.h5\n",
      "50/50 [==============================] - 0s 6ms/step - loss: 0.0141 - mse: 0.0141 - val_loss: 0.0153 - val_mse: 0.0153\n",
      "Epoch 4/64\n",
      "47/50 [===========================>..] - ETA: 0s - loss: 0.0129 - mse: 0.0129\n",
      "Epoch 4: val_loss improved from 0.01531 to 0.01465, saving model to model.h5\n",
      "50/50 [==============================] - 0s 6ms/step - loss: 0.0126 - mse: 0.0126 - val_loss: 0.0146 - val_mse: 0.0146\n",
      "Epoch 5/64\n",
      "48/50 [===========================>..] - ETA: 0s - loss: 0.0119 - mse: 0.0119\n",
      "Epoch 5: val_loss improved from 0.01465 to 0.01377, saving model to model.h5\n",
      "50/50 [==============================] - 0s 6ms/step - loss: 0.0117 - mse: 0.0117 - val_loss: 0.0138 - val_mse: 0.0138\n",
      "Epoch 6/64\n",
      "49/50 [============================>.] - ETA: 0s - loss: 0.0111 - mse: 0.0111\n",
      "Epoch 6: val_loss improved from 0.01377 to 0.01347, saving model to model.h5\n",
      "50/50 [==============================] - 0s 6ms/step - loss: 0.0111 - mse: 0.0111 - val_loss: 0.0135 - val_mse: 0.0135\n",
      "Epoch 7/64\n",
      "48/50 [===========================>..] - ETA: 0s - loss: 0.0103 - mse: 0.0103\n",
      "Epoch 7: val_loss improved from 0.01347 to 0.01239, saving model to model.h5\n",
      "50/50 [==============================] - 0s 6ms/step - loss: 0.0101 - mse: 0.0101 - val_loss: 0.0124 - val_mse: 0.0124\n",
      "Epoch 8/64\n",
      "48/50 [===========================>..] - ETA: 0s - loss: 0.0099 - mse: 0.0099\n",
      "Epoch 8: val_loss improved from 0.01239 to 0.01144, saving model to model.h5\n",
      "50/50 [==============================] - 0s 6ms/step - loss: 0.0098 - mse: 0.0098 - val_loss: 0.0114 - val_mse: 0.0114\n",
      "Epoch 9/64\n",
      "47/50 [===========================>..] - ETA: 0s - loss: 0.0086 - mse: 0.0086\n",
      "Epoch 9: val_loss did not improve from 0.01144\n",
      "50/50 [==============================] - 0s 6ms/step - loss: 0.0088 - mse: 0.0088 - val_loss: 0.0126 - val_mse: 0.0126\n",
      "Epoch 10/64\n",
      "48/50 [===========================>..] - ETA: 0s - loss: 0.0094 - mse: 0.0094\n",
      "Epoch 10: val_loss improved from 0.01144 to 0.01034, saving model to model.h5\n",
      "50/50 [==============================] - 0s 6ms/step - loss: 0.0092 - mse: 0.0092 - val_loss: 0.0103 - val_mse: 0.0103\n",
      "Epoch 11/64\n",
      "47/50 [===========================>..] - ETA: 0s - loss: 0.0074 - mse: 0.0074\n",
      "Epoch 11: val_loss improved from 0.01034 to 0.00997, saving model to model.h5\n",
      "50/50 [==============================] - 0s 6ms/step - loss: 0.0075 - mse: 0.0075 - val_loss: 0.0100 - val_mse: 0.0100\n",
      "Epoch 12/64\n",
      "47/50 [===========================>..] - ETA: 0s - loss: 0.0078 - mse: 0.0078\n",
      "Epoch 12: val_loss improved from 0.00997 to 0.00903, saving model to model.h5\n",
      "50/50 [==============================] - 0s 6ms/step - loss: 0.0077 - mse: 0.0077 - val_loss: 0.0090 - val_mse: 0.0090\n",
      "Epoch 13/64\n",
      "48/50 [===========================>..] - ETA: 0s - loss: 0.0069 - mse: 0.0069\n",
      "Epoch 13: val_loss did not improve from 0.00903\n",
      "50/50 [==============================] - 0s 5ms/step - loss: 0.0068 - mse: 0.0068 - val_loss: 0.0091 - val_mse: 0.0091\n",
      "Epoch 14/64\n",
      "48/50 [===========================>..] - ETA: 0s - loss: 0.0064 - mse: 0.0064\n",
      "Epoch 14: val_loss improved from 0.00903 to 0.00893, saving model to model.h5\n",
      "50/50 [==============================] - 0s 6ms/step - loss: 0.0065 - mse: 0.0065 - val_loss: 0.0089 - val_mse: 0.0089\n",
      "Epoch 15/64\n",
      "46/50 [==========================>...] - ETA: 0s - loss: 0.0063 - mse: 0.0063\n",
      "Epoch 15: val_loss improved from 0.00893 to 0.00887, saving model to model.h5\n",
      "50/50 [==============================] - 0s 6ms/step - loss: 0.0064 - mse: 0.0064 - val_loss: 0.0089 - val_mse: 0.0089\n",
      "Epoch 16/64\n",
      "49/50 [============================>.] - ETA: 0s - loss: 0.0061 - mse: 0.0061\n",
      "Epoch 16: val_loss did not improve from 0.00887\n",
      "50/50 [==============================] - 0s 5ms/step - loss: 0.0061 - mse: 0.0061 - val_loss: 0.0103 - val_mse: 0.0103\n",
      "Epoch 17/64\n",
      "49/50 [============================>.] - ETA: 0s - loss: 0.0066 - mse: 0.0066\n",
      "Epoch 17: val_loss did not improve from 0.00887\n",
      "50/50 [==============================] - 0s 5ms/step - loss: 0.0065 - mse: 0.0065 - val_loss: 0.0090 - val_mse: 0.0090\n",
      "Epoch 18/64\n",
      "46/50 [==========================>...] - ETA: 0s - loss: 0.0053 - mse: 0.0053\n",
      "Epoch 18: val_loss did not improve from 0.00887\n",
      "50/50 [==============================] - 0s 6ms/step - loss: 0.0058 - mse: 0.0058 - val_loss: 0.0090 - val_mse: 0.0090\n",
      "Epoch 19/64\n",
      "45/50 [==========================>...] - ETA: 0s - loss: 0.0059 - mse: 0.0059\n",
      "Epoch 19: val_loss improved from 0.00887 to 0.00876, saving model to model.h5\n",
      "50/50 [==============================] - 0s 7ms/step - loss: 0.0061 - mse: 0.0061 - val_loss: 0.0088 - val_mse: 0.0088\n",
      "Epoch 20/64\n",
      "47/50 [===========================>..] - ETA: 0s - loss: 0.0055 - mse: 0.0055\n",
      "Epoch 20: val_loss improved from 0.00876 to 0.00834, saving model to model.h5\n",
      "50/50 [==============================] - 0s 6ms/step - loss: 0.0058 - mse: 0.0058 - val_loss: 0.0083 - val_mse: 0.0083\n",
      "Epoch 21/64\n",
      "47/50 [===========================>..] - ETA: 0s - loss: 0.0057 - mse: 0.0057\n",
      "Epoch 21: val_loss did not improve from 0.00834\n",
      "50/50 [==============================] - 0s 6ms/step - loss: 0.0057 - mse: 0.0057 - val_loss: 0.0088 - val_mse: 0.0088\n",
      "Epoch 22/64\n",
      "49/50 [============================>.] - ETA: 0s - loss: 0.0054 - mse: 0.0054\n",
      "Epoch 22: val_loss did not improve from 0.00834\n",
      "50/50 [==============================] - 0s 6ms/step - loss: 0.0054 - mse: 0.0054 - val_loss: 0.0086 - val_mse: 0.0086\n",
      "Epoch 23/64\n",
      "47/50 [===========================>..] - ETA: 0s - loss: 0.0055 - mse: 0.0055\n",
      "Epoch 23: val_loss improved from 0.00834 to 0.00772, saving model to model.h5\n",
      "50/50 [==============================] - 0s 6ms/step - loss: 0.0053 - mse: 0.0053 - val_loss: 0.0077 - val_mse: 0.0077\n",
      "Epoch 24/64\n",
      "47/50 [===========================>..] - ETA: 0s - loss: 0.0048 - mse: 0.0048\n",
      "Epoch 24: val_loss did not improve from 0.00772\n",
      "50/50 [==============================] - 0s 6ms/step - loss: 0.0049 - mse: 0.0049 - val_loss: 0.0086 - val_mse: 0.0086\n",
      "Epoch 25/64\n",
      "49/50 [============================>.] - ETA: 0s - loss: 0.0057 - mse: 0.0057\n",
      "Epoch 25: val_loss improved from 0.00772 to 0.00759, saving model to model.h5\n",
      "50/50 [==============================] - 0s 6ms/step - loss: 0.0057 - mse: 0.0057 - val_loss: 0.0076 - val_mse: 0.0076\n",
      "Epoch 26/64\n",
      "47/50 [===========================>..] - ETA: 0s - loss: 0.0053 - mse: 0.0053\n",
      "Epoch 26: val_loss did not improve from 0.00759\n",
      "50/50 [==============================] - 0s 6ms/step - loss: 0.0054 - mse: 0.0054 - val_loss: 0.0077 - val_mse: 0.0077\n",
      "Epoch 27/64\n",
      "47/50 [===========================>..] - ETA: 0s - loss: 0.0054 - mse: 0.0054\n",
      "Epoch 27: val_loss did not improve from 0.00759\n",
      "50/50 [==============================] - 0s 6ms/step - loss: 0.0054 - mse: 0.0054 - val_loss: 0.0082 - val_mse: 0.0082\n",
      "Epoch 28/64\n",
      "48/50 [===========================>..] - ETA: 0s - loss: 0.0051 - mse: 0.0051\n",
      "Epoch 28: val_loss did not improve from 0.00759\n",
      "50/50 [==============================] - 0s 6ms/step - loss: 0.0051 - mse: 0.0051 - val_loss: 0.0077 - val_mse: 0.0077\n",
      "Epoch 29/64\n",
      "47/50 [===========================>..] - ETA: 0s - loss: 0.0050 - mse: 0.0050\n",
      "Epoch 29: val_loss did not improve from 0.00759\n",
      "50/50 [==============================] - 0s 6ms/step - loss: 0.0049 - mse: 0.0049 - val_loss: 0.0082 - val_mse: 0.0082\n",
      "Epoch 30/64\n",
      "49/50 [============================>.] - ETA: 0s - loss: 0.0046 - mse: 0.0046\n",
      "Epoch 30: val_loss did not improve from 0.00759\n",
      "50/50 [==============================] - 0s 6ms/step - loss: 0.0046 - mse: 0.0046 - val_loss: 0.0077 - val_mse: 0.0077\n",
      "Epoch 31/64\n"
     ]
    },
    {
     "name": "stdout",
     "output_type": "stream",
     "text": [
      "48/50 [===========================>..] - ETA: 0s - loss: 0.0046 - mse: 0.0046\n",
      "Epoch 31: val_loss did not improve from 0.00759\n",
      "50/50 [==============================] - 0s 5ms/step - loss: 0.0046 - mse: 0.0046 - val_loss: 0.0087 - val_mse: 0.0087\n",
      "Epoch 32/64\n",
      "48/50 [===========================>..] - ETA: 0s - loss: 0.0049 - mse: 0.0049\n",
      "Epoch 32: val_loss did not improve from 0.00759\n",
      "50/50 [==============================] - 0s 6ms/step - loss: 0.0050 - mse: 0.0050 - val_loss: 0.0083 - val_mse: 0.0083\n",
      "Epoch 33/64\n",
      "47/50 [===========================>..] - ETA: 0s - loss: 0.0049 - mse: 0.0049\n",
      "Epoch 33: val_loss did not improve from 0.00759\n",
      "50/50 [==============================] - 0s 6ms/step - loss: 0.0048 - mse: 0.0048 - val_loss: 0.0085 - val_mse: 0.0085\n",
      "Epoch 34/64\n",
      "49/50 [============================>.] - ETA: 0s - loss: 0.0050 - mse: 0.0050\n",
      "Epoch 34: val_loss did not improve from 0.00759\n",
      "50/50 [==============================] - 0s 5ms/step - loss: 0.0050 - mse: 0.0050 - val_loss: 0.0080 - val_mse: 0.0080\n",
      "Epoch 35/64\n",
      "47/50 [===========================>..] - ETA: 0s - loss: 0.0046 - mse: 0.0046\n",
      "Epoch 35: val_loss did not improve from 0.00759\n",
      "50/50 [==============================] - 0s 5ms/step - loss: 0.0047 - mse: 0.0047 - val_loss: 0.0077 - val_mse: 0.0077\n",
      "Epoch 36/64\n",
      "46/50 [==========================>...] - ETA: 0s - loss: 0.0045 - mse: 0.0045\n",
      "Epoch 36: val_loss improved from 0.00759 to 0.00734, saving model to model.h5\n",
      "50/50 [==============================] - 0s 6ms/step - loss: 0.0045 - mse: 0.0045 - val_loss: 0.0073 - val_mse: 0.0073\n",
      "Epoch 37/64\n",
      "46/50 [==========================>...] - ETA: 0s - loss: 0.0043 - mse: 0.0043\n",
      "Epoch 37: val_loss did not improve from 0.00734\n",
      "50/50 [==============================] - 0s 6ms/step - loss: 0.0045 - mse: 0.0045 - val_loss: 0.0079 - val_mse: 0.0079\n",
      "Epoch 38/64\n",
      "47/50 [===========================>..] - ETA: 0s - loss: 0.0046 - mse: 0.0046\n",
      "Epoch 38: val_loss did not improve from 0.00734\n",
      "50/50 [==============================] - 0s 6ms/step - loss: 0.0046 - mse: 0.0046 - val_loss: 0.0083 - val_mse: 0.0083\n",
      "Epoch 39/64\n",
      "49/50 [============================>.] - ETA: 0s - loss: 0.0045 - mse: 0.0045\n",
      "Epoch 39: val_loss did not improve from 0.00734\n",
      "50/50 [==============================] - 0s 5ms/step - loss: 0.0045 - mse: 0.0045 - val_loss: 0.0081 - val_mse: 0.0081\n",
      "Epoch 40/64\n",
      "48/50 [===========================>..] - ETA: 0s - loss: 0.0047 - mse: 0.0047\n",
      "Epoch 40: val_loss did not improve from 0.00734\n",
      "50/50 [==============================] - 0s 5ms/step - loss: 0.0048 - mse: 0.0048 - val_loss: 0.0091 - val_mse: 0.0091\n",
      "Epoch 41/64\n",
      "50/50 [==============================] - ETA: 0s - loss: 0.0044 - mse: 0.0044\n",
      "Epoch 41: val_loss did not improve from 0.00734\n",
      "50/50 [==============================] - 0s 5ms/step - loss: 0.0044 - mse: 0.0044 - val_loss: 0.0080 - val_mse: 0.0080\n",
      "Epoch 42/64\n",
      "47/50 [===========================>..] - ETA: 0s - loss: 0.0044 - mse: 0.0044\n",
      "Epoch 42: val_loss did not improve from 0.00734\n",
      "50/50 [==============================] - 0s 6ms/step - loss: 0.0045 - mse: 0.0045 - val_loss: 0.0078 - val_mse: 0.0078\n",
      "Epoch 43/64\n",
      "48/50 [===========================>..] - ETA: 0s - loss: 0.0049 - mse: 0.0049\n",
      "Epoch 43: val_loss did not improve from 0.00734\n",
      "50/50 [==============================] - 0s 6ms/step - loss: 0.0048 - mse: 0.0048 - val_loss: 0.0081 - val_mse: 0.0081\n",
      "Epoch 44/64\n",
      "46/50 [==========================>...] - ETA: 0s - loss: 0.0045 - mse: 0.0045\n",
      "Epoch 44: val_loss improved from 0.00734 to 0.00725, saving model to model.h5\n",
      "50/50 [==============================] - 0s 6ms/step - loss: 0.0045 - mse: 0.0045 - val_loss: 0.0072 - val_mse: 0.0072\n",
      "Epoch 45/64\n",
      "50/50 [==============================] - ETA: 0s - loss: 0.0051 - mse: 0.0051\n",
      "Epoch 45: val_loss did not improve from 0.00725\n",
      "50/50 [==============================] - 0s 5ms/step - loss: 0.0051 - mse: 0.0051 - val_loss: 0.0073 - val_mse: 0.0073\n",
      "Epoch 46/64\n",
      "50/50 [==============================] - ETA: 0s - loss: 0.0044 - mse: 0.0044\n",
      "Epoch 46: val_loss did not improve from 0.00725\n",
      "50/50 [==============================] - 0s 5ms/step - loss: 0.0044 - mse: 0.0044 - val_loss: 0.0074 - val_mse: 0.0074\n",
      "Epoch 47/64\n",
      "45/50 [==========================>...] - ETA: 0s - loss: 0.0043 - mse: 0.0043\n",
      "Epoch 47: val_loss did not improve from 0.00725\n",
      "50/50 [==============================] - 0s 6ms/step - loss: 0.0043 - mse: 0.0043 - val_loss: 0.0085 - val_mse: 0.0085\n",
      "Epoch 48/64\n",
      "44/50 [=========================>....] - ETA: 0s - loss: 0.0044 - mse: 0.0044\n",
      "Epoch 48: val_loss did not improve from 0.00725\n",
      "50/50 [==============================] - 0s 6ms/step - loss: 0.0043 - mse: 0.0043 - val_loss: 0.0078 - val_mse: 0.0078\n",
      "Epoch 49/64\n",
      "48/50 [===========================>..] - ETA: 0s - loss: 0.0044 - mse: 0.0044\n",
      "Epoch 49: val_loss did not improve from 0.00725\n",
      "50/50 [==============================] - 0s 6ms/step - loss: 0.0044 - mse: 0.0044 - val_loss: 0.0074 - val_mse: 0.0074\n",
      "Epoch 50/64\n",
      "48/50 [===========================>..] - ETA: 0s - loss: 0.0043 - mse: 0.0043\n",
      "Epoch 50: val_loss did not improve from 0.00725\n",
      "50/50 [==============================] - 0s 5ms/step - loss: 0.0043 - mse: 0.0043 - val_loss: 0.0074 - val_mse: 0.0074\n",
      "Epoch 51/64\n",
      "49/50 [============================>.] - ETA: 0s - loss: 0.0042 - mse: 0.0042\n",
      "Epoch 51: val_loss did not improve from 0.00725\n",
      "50/50 [==============================] - 0s 5ms/step - loss: 0.0042 - mse: 0.0042 - val_loss: 0.0079 - val_mse: 0.0079\n",
      "Epoch 52/64\n",
      "48/50 [===========================>..] - ETA: 0s - loss: 0.0044 - mse: 0.0044\n",
      "Epoch 52: val_loss did not improve from 0.00725\n",
      "50/50 [==============================] - 0s 5ms/step - loss: 0.0044 - mse: 0.0044 - val_loss: 0.0076 - val_mse: 0.0076\n",
      "Epoch 53/64\n",
      "49/50 [============================>.] - ETA: 0s - loss: 0.0043 - mse: 0.0043\n",
      "Epoch 53: val_loss did not improve from 0.00725\n",
      "50/50 [==============================] - 0s 6ms/step - loss: 0.0043 - mse: 0.0043 - val_loss: 0.0086 - val_mse: 0.0086\n",
      "Epoch 54/64\n",
      "47/50 [===========================>..] - ETA: 0s - loss: 0.0045 - mse: 0.0045\n",
      "Epoch 54: val_loss did not improve from 0.00725\n",
      "50/50 [==============================] - 0s 6ms/step - loss: 0.0044 - mse: 0.0044 - val_loss: 0.0075 - val_mse: 0.0075\n",
      "Epoch 55/64\n",
      "48/50 [===========================>..] - ETA: 0s - loss: 0.0042 - mse: 0.0042\n",
      "Epoch 55: val_loss did not improve from 0.00725\n",
      "50/50 [==============================] - 0s 5ms/step - loss: 0.0041 - mse: 0.0041 - val_loss: 0.0078 - val_mse: 0.0078\n",
      "Epoch 56/64\n",
      "44/50 [=========================>....] - ETA: 0s - loss: 0.0045 - mse: 0.0045\n",
      "Epoch 56: val_loss did not improve from 0.00725\n",
      "50/50 [==============================] - 0s 6ms/step - loss: 0.0043 - mse: 0.0043 - val_loss: 0.0074 - val_mse: 0.0074\n",
      "Epoch 57/64\n",
      "49/50 [============================>.] - ETA: 0s - loss: 0.0052 - mse: 0.0052\n",
      "Epoch 57: val_loss did not improve from 0.00725\n",
      "50/50 [==============================] - 0s 5ms/step - loss: 0.0052 - mse: 0.0052 - val_loss: 0.0094 - val_mse: 0.0094\n",
      "Epoch 58/64\n",
      "47/50 [===========================>..] - ETA: 0s - loss: 0.0046 - mse: 0.0046\n",
      "Epoch 58: val_loss did not improve from 0.00725\n",
      "50/50 [==============================] - 0s 6ms/step - loss: 0.0045 - mse: 0.0045 - val_loss: 0.0075 - val_mse: 0.0075\n",
      "Epoch 59/64\n",
      "47/50 [===========================>..] - ETA: 0s - loss: 0.0040 - mse: 0.0040\n",
      "Epoch 59: val_loss did not improve from 0.00725\n",
      "50/50 [==============================] - 0s 6ms/step - loss: 0.0040 - mse: 0.0040 - val_loss: 0.0077 - val_mse: 0.0077\n",
      "Epoch 60/64\n",
      "49/50 [============================>.] - ETA: 0s - loss: 0.0044 - mse: 0.0044\n",
      "Epoch 60: val_loss did not improve from 0.00725\n",
      "50/50 [==============================] - 0s 5ms/step - loss: 0.0044 - mse: 0.0044 - val_loss: 0.0078 - val_mse: 0.0078\n",
      "Epoch 61/64\n",
      "49/50 [============================>.] - ETA: 0s - loss: 0.0045 - mse: 0.0045\n",
      "Epoch 61: val_loss did not improve from 0.00725\n",
      "50/50 [==============================] - 0s 5ms/step - loss: 0.0047 - mse: 0.0047 - val_loss: 0.0076 - val_mse: 0.0076\n",
      "Epoch 62/64\n",
      "47/50 [===========================>..] - ETA: 0s - loss: 0.0042 - mse: 0.0042\n",
      "Epoch 62: val_loss did not improve from 0.00725\n",
      "50/50 [==============================] - 0s 6ms/step - loss: 0.0043 - mse: 0.0043 - val_loss: 0.0078 - val_mse: 0.0078\n"
     ]
    },
    {
     "name": "stdout",
     "output_type": "stream",
     "text": [
      "Epoch 63/64\n",
      "49/50 [============================>.] - ETA: 0s - loss: 0.0042 - mse: 0.0042\n",
      "Epoch 63: val_loss did not improve from 0.00725\n",
      "50/50 [==============================] - 0s 5ms/step - loss: 0.0043 - mse: 0.0043 - val_loss: 0.0082 - val_mse: 0.0082\n",
      "Epoch 64/64\n",
      "48/50 [===========================>..] - ETA: 0s - loss: 0.0041 - mse: 0.0041\n",
      "Epoch 64: val_loss did not improve from 0.00725\n",
      "50/50 [==============================] - 0s 6ms/step - loss: 0.0042 - mse: 0.0042 - val_loss: 0.0075 - val_mse: 0.0075\n"
     ]
    }
   ],
   "source": [
    "history = model.fit(x_train, y_train, epochs=64, batch_size=16, validation_data=(x_test, y_test), callbacks=[checkpoint])"
   ]
  },
  {
   "cell_type": "code",
   "execution_count": 14,
   "metadata": {},
   "outputs": [
    {
     "data": {
      "image/png": "[encoded data removed]",
      "text/plain": [
       "<Figure size 640x480 with 1 Axes>"
      ]
     },
     "metadata": {},
     "output_type": "display_data"
    }
   ],
   "source": [
    "plt.plot(history.history[\"loss\"])\n",
    "plt.plot(history.history[\"val_loss\"])\n",
    "plt.show()"
   ]
  },
  {
   "cell_type": "code",
   "execution_count": 15,
   "metadata": {},
   "outputs": [
    {
     "name": "stdout",
     "output_type": "stream",
     "text": [
      "7/7 [==============================] - 0s 3ms/step - loss: 0.0075 - mse: 0.0075\n"
     ]
    },
    {
     "data": {
      "text/plain": [
       "[0.0074523077346384525, 0.0074523077346384525]"
      ]
     },
     "execution_count": 15,
     "metadata": {},
     "output_type": "execute_result"
    }
   ],
   "source": [
    "model.evaluate(x_test, y_test)"
   ]
  },
  {
   "cell_type": "code",
   "execution_count": 16,
   "metadata": {},
   "outputs": [
    {
     "name": "stdout",
     "output_type": "stream",
     "text": [
      "1/1 [==============================] - 0s 396ms/step\n"
     ]
    },
    {
     "name": "stderr",
     "output_type": "stream",
     "text": [
      "2023-04-19 01:23:33.912826: I tensorflow/core/common_runtime/executor.cc:1197] [/device:CPU:0] (DEBUG INFO) Executor start aborting (this does not indicate an error and you can ignore this message): INVALID_ARGUMENT: You must feed a value for placeholder tensor 'gradients/split_2_grad/concat/split_2/split_dim' with dtype int32\n",
      "\t [[{{node gradients/split_2_grad/concat/split_2/split_dim}}]]\n",
      "2023-04-19 01:23:33.914947: I tensorflow/core/common_runtime/executor.cc:1197] [/device:CPU:0] (DEBUG INFO) Executor start aborting (this does not indicate an error and you can ignore this message): INVALID_ARGUMENT: You must feed a value for placeholder tensor 'gradients/split_grad/concat/split/split_dim' with dtype int32\n",
      "\t [[{{node gradients/split_grad/concat/split/split_dim}}]]\n",
      "2023-04-19 01:23:33.916417: I tensorflow/core/common_runtime/executor.cc:1197] [/device:CPU:0] (DEBUG INFO) Executor start aborting (this does not indicate an error and you can ignore this message): INVALID_ARGUMENT: You must feed a value for placeholder tensor 'gradients/split_1_grad/concat/split_1/split_dim' with dtype int32\n",
      "\t [[{{node gradients/split_1_grad/concat/split_1/split_dim}}]]\n"
     ]
    }
   ],
   "source": [
    "result = model.predict(x_test[85].reshape(1, x_test[0].shape[0], x_test[0].shape[1]))"
   ]
  },
  {
   "cell_type": "code",
   "execution_count": 17,
   "metadata": {},
   "outputs": [],
   "source": [
    "with open('scaler_target.pkl', 'rb') as f:\n",
    "    scaler_target = pickle.load(f)"
   ]
  },
  {
   "cell_type": "code",
   "execution_count": 18,
   "metadata": {},
   "outputs": [
    {
     "name": "stdout",
     "output_type": "stream",
     "text": [
      "[[19.803875]]\n"
     ]
    }
   ],
   "source": [
    "result = scaler_target.inverse_transform(result)\n",
    "print(result)"
   ]
  },
  {
   "cell_type": "code",
   "execution_count": 19,
   "metadata": {},
   "outputs": [
    {
     "name": "stdout",
     "output_type": "stream",
     "text": [
      "[[17.97999954]]\n"
     ]
    }
   ],
   "source": [
    "answer = scaler_target.inverse_transform(y_test[85].reshape(1, y_test[0].shape[0]))\n",
    "print(answer)"
   ]
  },
  {
   "cell_type": "code",
   "execution_count": 22,
   "metadata": {},
   "outputs": [
    {
     "name": "stderr",
     "output_type": "stream",
     "text": [
      "2023-04-19 01:24:13.587651: I tensorflow/core/common_runtime/executor.cc:1197] [/device:CPU:0] (DEBUG INFO) Executor start aborting (this does not indicate an error and you can ignore this message): INVALID_ARGUMENT: You must feed a value for placeholder tensor 'gradients/split_2_grad/concat/split_2/split_dim' with dtype int32\n",
      "\t [[{{node gradients/split_2_grad/concat/split_2/split_dim}}]]\n",
      "2023-04-19 01:24:13.589894: I tensorflow/core/common_runtime/executor.cc:1197] [/device:CPU:0] (DEBUG INFO) Executor start aborting (this does not indicate an error and you can ignore this message): INVALID_ARGUMENT: You must feed a value for placeholder tensor 'gradients/split_grad/concat/split/split_dim' with dtype int32\n",
      "\t [[{{node gradients/split_grad/concat/split/split_dim}}]]\n",
      "2023-04-19 01:24:13.591475: I tensorflow/core/common_runtime/executor.cc:1197] [/device:CPU:0] (DEBUG INFO) Executor start aborting (this does not indicate an error and you can ignore this message): INVALID_ARGUMENT: You must feed a value for placeholder tensor 'gradients/split_1_grad/concat/split_1/split_dim' with dtype int32\n",
      "\t [[{{node gradients/split_1_grad/concat/split_1/split_dim}}]]\n"
     ]
    }
   ],
   "source": [
    "from keras.models import load_model\n",
    "\n",
    "model = load_model('model.h5')"
   ]
  }
 ],
 "metadata": {
  "kernelspec": {
   "display_name": "Python 3 (ipykernel)",
   "language": "python",
   "name": "python3"
  },
  "language_info": {
   "codemirror_mode": {
    "name": "ipython",
    "version": 3
   },
   "file_extension": ".py",
   "mimetype": "text/x-python",
   "name": "python",
   "nbconvert_exporter": "python",
   "pygments_lexer": "ipython3",
   "version": "3.10.10"
  },
  "vscode": {
   "interpreter": {
    "hash": "e7370f93d1d0cde622a1f8e1c04877d8463912d04d973331ad4851f04de6915a"
   }
  }
 },
 "nbformat": 4,
 "nbformat_minor": 2
}
